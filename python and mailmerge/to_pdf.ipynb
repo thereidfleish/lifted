{
 "cells": [
  {
   "cell_type": "markdown",
   "metadata": {},
   "source": [
    "Used to create unique access codes for Lifted Electronic Message Pickup.  Also used to combine PDFs of multiple recipient messages and then rename them with \"NetID_accessCode.pdf\"\n",
    "\n",
    "Also, used to format a CSV for MailMerge for sending these messages"
   ]
  },
  {
   "cell_type": "code",
   "execution_count": null,
   "metadata": {},
   "outputs": [],
   "source": [
    "import pandas as pd\n",
    "import numpy as np\n",
    "import re\n",
    "import pypdf\n",
    "import os"
   ]
  },
  {
   "cell_type": "code",
   "execution_count": null,
   "metadata": {},
   "outputs": [],
   "source": [
    "all = pd.read_csv(\"all.csv\")\n",
    "all[\"First Name\"] = all[\"Recipient's First Name\"] = all[\"Recipient\\'s Full Name\"].str.split(n=1, expand=True)[0]\n",
    "all"
   ]
  },
  {
   "cell_type": "code",
   "execution_count": null,
   "metadata": {},
   "outputs": [],
   "source": [
    "all_groupby = all.groupby([\"Recipient NetID\", \"Recipient's First Name\"])[\"Recipient NetID\"].count().to_frame(name=\"Num Messages\").reset_index()\n",
    "all_groupby[\"Email\"] = all_groupby[\"Recipient NetID\"] + \"@cornell.edu\"\n",
    "all_groupby[\"Access Code\"] = all_groupby.index\n",
    "all_groupby.to_csv(\"all_groupby.csv\")\n",
    "all_groupby"
   ]
  },
  {
   "cell_type": "code",
   "execution_count": null,
   "metadata": {},
   "outputs": [],
   "source": [
    "# open the pdf file\n",
    "reader = pypdf.PdfReader(\"all.pdf\")\n",
    "\n",
    "# get number of pages\n",
    "num_pages = len(reader.pages)\n",
    "\n",
    "# extract text and do the search\n",
    "for page in reader.pages:\n",
    "    text = page.extract_text() \n",
    "    for netID, accessCode in zip(all_groupby[\"Recipient NetID\"], all_groupby[\"Access Code\"]):\n",
    "        writer = pypdf.PdfWriter()\n",
    "        res_search = re.search(netID, text)\n",
    "        if res_search is not None:\n",
    "            # print(res_search)\n",
    "\n",
    "            file_name = netID + \"_\" + str(accessCode) + \".pdf\"\n",
    "\n",
    "            if os.path.exists(\"pdfs/\" + file_name):\n",
    "                writer.append(\"pdfs/\" + file_name)\n",
    "\n",
    "            writer.add_page(page)\n",
    "            with open(\"pdfs/\" + file_name, 'wb') as out:\n",
    "                writer.write(out)"
   ]
  },
  {
   "cell_type": "markdown",
   "metadata": {},
   "source": [
    "Create MailMerge"
   ]
  },
  {
   "cell_type": "code",
   "execution_count": null,
   "metadata": {},
   "outputs": [],
   "source": [
    "post = pd.read_csv(\"post_lifted_access.csv\")\n",
    "post"
   ]
  },
  {
   "cell_type": "code",
   "execution_count": null,
   "metadata": {},
   "outputs": [],
   "source": [
    "post_merge_list = all_groupby.loc[all_groupby[\"Recipient NetID\"].isin(post[\"NetID\"])]\n",
    "post_merge_list.to_csv(\"post_merge_list.csv\")\n",
    "post_merge_list"
   ]
  },
  {
   "cell_type": "code",
   "execution_count": null,
   "metadata": {},
   "outputs": [],
   "source": [
    "# Sanity check (we want this to be empty).  If it's not, either the NetID was not actually lifted or there's a space in the post csv or something\n",
    "post.loc[~post[\"NetID\"].isin(post_merge_list[\"Recipient NetID\"])]"
   ]
  }
 ],
 "metadata": {
  "kernelspec": {
   "display_name": "base",
   "language": "python",
   "name": "python3"
  },
  "language_info": {
   "codemirror_mode": {
    "name": "ipython",
    "version": 3
   },
   "file_extension": ".py",
   "mimetype": "text/x-python",
   "name": "python",
   "nbconvert_exporter": "python",
   "pygments_lexer": "ipython3",
   "version": "3.1.undefined"
  }
 },
 "nbformat": 4,
 "nbformat_minor": 2
}
