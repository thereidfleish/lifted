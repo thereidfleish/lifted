{
 "cells": [
  {
   "cell_type": "markdown",
   "metadata": {},
   "source": [
    "Used in Lifted 2024 to determine which individuals received flowers v.s. cards in boxes"
   ]
  },
  {
   "cell_type": "code",
   "execution_count": null,
   "metadata": {},
   "outputs": [],
   "source": [
    "import pandas as pd\n",
    "import numpy as np"
   ]
  },
  {
   "cell_type": "code",
   "execution_count": null,
   "metadata": {},
   "outputs": [],
   "source": [
    "all = pd.read_csv(\"all.csv\")\n",
    "\n",
    "display(all)"
   ]
  },
  {
   "cell_type": "code",
   "execution_count": null,
   "metadata": {},
   "outputs": [],
   "source": [
    "all[\"Recipient's First Name\"] = all[\"Recipient\\'s Full Name\"].str.split(n=1, expand=True)[0]\n",
    "all"
   ]
  },
  {
   "cell_type": "code",
   "execution_count": null,
   "metadata": {},
   "outputs": [],
   "source": [
    "all = all[[\"Recipient\\'s First Name\", \"Recipient NetID\", \"Flowers\"]]"
   ]
  },
  {
   "cell_type": "code",
   "execution_count": null,
   "metadata": {},
   "outputs": [],
   "source": [
    "all_groupby = all.groupby([\"Recipient NetID\", \"Recipient's First Name\", \"Flowers\"])[\"Recipient NetID\"].count().to_frame(name=\"Num Messages\").reset_index()\n",
    "display(all_groupby)\n",
    "all_groupby.to_csv(\"emails.csv\")"
   ]
  },
  {
   "cell_type": "code",
   "execution_count": null,
   "metadata": {},
   "outputs": [],
   "source": [
    "flowers = all_groupby[all_groupby[\"Flowers\"] == \"Yes\"]\n",
    "bins = all_groupby[all_groupby[\"Flowers\"] == \"No\"]\n",
    "\n",
    "flowers[\"Email\"] = flowers[\"Recipient NetID\"] + \"@cornell.edu\"\n",
    "bins[\"Email\"] = bins[\"Recipient NetID\"] + \"@cornell.edu\"\n",
    "\n",
    "display(flowers)\n",
    "display(bins)\n",
    "flowers.to_csv(\"flowers.csv\")\n",
    "bins.to_csv(\"bins.csv\")"
   ]
  },
  {
   "cell_type": "code",
   "execution_count": null,
   "metadata": {},
   "outputs": [],
   "source": [
    "for i in flowers[\"Num Messages\"].unique():\n",
    "    flowers[flowers[\"Num Messages\"] == i].to_csv(\"flowers_\" + str(i) + \".csv\")\n",
    "    \n",
    "for i in flowers[\"Num Messages\"].unique():\n",
    "    flowers[flowers[\"Num Messages\"] == i].to_csv(\"flowers_\" + str(i) + \".csv\")"
   ]
  }
 ],
 "metadata": {
  "kernelspec": {
   "display_name": "base",
   "language": "python",
   "name": "python3"
  },
  "language_info": {
   "codemirror_mode": {
    "name": "ipython",
    "version": 3
   },
   "file_extension": ".py",
   "mimetype": "text/x-python",
   "name": "python",
   "nbconvert_exporter": "python",
   "pygments_lexer": "ipython3",
   "version": "3.1.undefined"
  }
 },
 "nbformat": 4,
 "nbformat_minor": 2
}
